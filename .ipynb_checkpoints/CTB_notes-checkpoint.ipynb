{
 "cells": [
  {
   "cell_type": "code",
   "execution_count": 3,
   "id": "67b575cc-8102-4bb4-bbf6-e511e578da85",
   "metadata": {},
   "outputs": [],
   "source": [
    "from utilities.chatcompletion import getOpenAIresponse\n",
    "\n",
    "def gpt5(s) :\n",
    "    return getOpenAIresponse(s, model = 'gpt-5', temperature = 1) \n",
    "\n",
    "def create() :\n",
    "    with open('README.md', \"w\") as f :\n",
    "        f.write('')\n",
    "        \n",
    "def add(text) :\n",
    "    with open('README.md', \"a\") as f :\n",
    "        f.write(text+'\\n')\n",
    "    print('README.md addended')\n",
    "\n",
    "def addAI(content_prompt) :\n",
    "    text = gpt5(f'''Return markdown format text for the following prompt which is intended to create educational text \n",
    "                for a textbook aimed at trainee radiologists:  {content_prompt}''')\n",
    "    add(text)\n",
    "\n",
    "def getContent() :\n",
    "    with open('README.md') as f:\n",
    "        return f.read()\n"
   ]
  },
  {
   "cell_type": "code",
   "execution_count": 4,
   "id": "df4ad561-2ded-4940-9438-1f4bb647e32d",
   "metadata": {},
   "outputs": [
    {
     "name": "stdout",
     "output_type": "stream",
     "text": [
      "README.md addended\n",
      "\n",
      "README.md addended\n",
      "\n",
      "README.md addended\n",
      "\n",
      "README.md addended\n",
      "\n",
      "README.md addended\n",
      "\n",
      "README.md addended\n",
      "\n"
     ]
    }
   ],
   "source": [
    "create()\n",
    "add('# Subarachnoid haemorrhage')\n",
    "addAI('Give me a subsection (markdown ## level) on the epidemiology of subarachnoid haemorrhage in the UK')\n",
    "addAI('Give me a subsection (markdown ## level) on the pathophysiology of subarachnoid haemorrhage in the UK')\n",
    "addAI('Give me a subsection (markdown ## level) on the imaging features of spontaneous subarachnoid haemorrhage')\n",
    "addAI('Give me a subsection (markdown ## level) on the imaging management spontaneous subarachnoid haemorrhage')\n",
    "addAI(f'Suggest some suitable figures and captions to illustrate this text {getContent()}')"
   ]
  },
  {
   "cell_type": "code",
   "execution_count": 5,
   "id": "ca35b516-97db-4c19-9b66-df9e1dc0c80a",
   "metadata": {},
   "outputs": [
    {
     "name": "stdout",
     "output_type": "stream",
     "text": [
      "[WARNING] Missing character: There is no α (U+03B1) (U+03B1) in font [lmroman10-regular]:mapping=t\n",
      "[WARNING] Missing character: There is no ≈ (U+2248) (U+2248) in font [lmroman10-regular]:mapping=t\n",
      "[WARNING] Missing character: There is no ≈ (U+2248) (U+2248) in font [lmroman10-regular]:mapping=t\n",
      "[WARNING] Missing character: There is no ≥ (U+2265) (U+2265) in font [lmroman10-regular]:mapping=t\n",
      "[WARNING] Missing character: There is no ≥ (U+2265) (U+2265) in font [lmroman10-regular]:mapping=t\n",
      "[WARNING] Missing character: There is no ≈ (U+2248) (U+2248) in font [lmroman10-regular]:mapping=t\n",
      "[WARNING] Missing character: There is no ≤ (U+2264) (U+2264) in font [lmroman10-regular]:mapping=t\n",
      "[WARNING] Missing character: There is no ≥ (U+2265) (U+2265) in font [lmroman10-regular]:mapping=t\n",
      "[WARNING] Missing character: There is no ≤ (U+2264) (U+2264) in font [lmroman10-regular]:mapping=t\n"
     ]
    }
   ],
   "source": [
    "! pandoc README.md -o README.pdf --pdf-engine=xelatex; open README.pdf"
   ]
  },
  {
   "cell_type": "code",
   "execution_count": null,
   "id": "9d9883af-9f16-440d-aa7b-7722f7d2dc97",
   "metadata": {},
   "outputs": [],
   "source": [
    "getContent()"
   ]
  },
  {
   "cell_type": "code",
   "execution_count": null,
   "id": "0c971563-2f0b-4042-88da-972bd717a0d6",
   "metadata": {},
   "outputs": [],
   "source": []
  }
 ],
 "metadata": {
  "kernelspec": {
   "display_name": "Python 3 (ipykernel)",
   "language": "python",
   "name": "python3"
  },
  "language_info": {
   "codemirror_mode": {
    "name": "ipython",
    "version": 3
   },
   "file_extension": ".py",
   "mimetype": "text/x-python",
   "name": "python",
   "nbconvert_exporter": "python",
   "pygments_lexer": "ipython3",
   "version": "3.12.10"
  }
 },
 "nbformat": 4,
 "nbformat_minor": 5
}
